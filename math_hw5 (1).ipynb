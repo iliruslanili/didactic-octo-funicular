{
 "cells": [
  {
   "cell_type": "code",
   "execution_count": 256,
   "id": "307ed67e-45dd-495d-a890-d70798194a07",
   "metadata": {},
   "outputs": [],
   "source": [
    "# %matplotlib widget\n",
    "import matplotlib.pyplot as plt\n",
    "import numpy as np\n",
    "import math\n",
    "import itertools"
   ]
  },
  {
   "cell_type": "markdown",
   "id": "42abee46-6a46-44dc-bb42-ac3cf0167e02",
   "metadata": {},
   "source": [
    "## 1. Имитация рулетки"
   ]
  },
  {
   "cell_type": "code",
   "execution_count": 2,
   "id": "ea7fd944-077c-4367-b146-cd4c38398c16",
   "metadata": {},
   "outputs": [],
   "source": [
    "matches = {'red': [32, 19, 21, 25, 34, 27, 36, 30, 23, 5, 16, 1, 14, 9, 18, 7, 12, 3],\n",
    "          'black': [15, 4, 2, 17, 6, 13, 11, 8, 10, 24, 33, 20, 31, 22, 29, 28, 35, 26],\n",
    "          'green': [0]}\n",
    "stats = {}\n",
    "num = 100000\n",
    "\n",
    "for i in range(num):\n",
    "    val = np.random.randint(0, 36)\n",
    "    for k, v in matches.items():\n",
    "        if val in v:\n",
    "            stats.setdefault(k, 0)\n",
    "            stats[k] += 1"
   ]
  },
  {
   "cell_type": "markdown",
   "id": "377a8fbe-6f50-4953-9bff-22f9dd0988d6",
   "metadata": {},
   "source": [
    "## 2.1 Сложение вероятностей"
   ]
  },
  {
   "cell_type": "code",
   "execution_count": 3,
   "id": "343ec4ac-e52b-4e3f-816c-b6d711985b35",
   "metadata": {},
   "outputs": [
    {
     "name": "stdout",
     "output_type": "stream",
     "text": [
      "{'red': 47277, 'black': 49935, 'green': 2788}\n",
      "Вероятность зеленого:0.02788\n",
      "Вероятность черного:0.49935\n",
      "Вероятность красного:0.47277\n",
      "Сумма вероятностей:1.0\n"
     ]
    },
    {
     "data": {
      "image/png": "[encoded data removed]",
      "text/plain": [
       "<Figure size 432x288 with 1 Axes>"
      ]
     },
     "metadata": {
      "needs_background": "light"
     },
     "output_type": "display_data"
    }
   ],
   "source": [
    "plt.bar(stats.keys(), stats.values())\n",
    "print(stats)\n",
    "prob = [stats[\"green\"] / num, stats[\"black\"] / num, stats[\"red\"] / num]\n",
    "print(f'Вероятность зеленого:{prob[0]}')\n",
    "print(f'Вероятность черного:{prob[1]}')\n",
    "print(f'Вероятность красного:{prob[2]}')\n",
    "print(f'Сумма вероятностей:{sum(prob)}')"
   ]
  },
  {
   "cell_type": "markdown",
   "id": "a96672a3-885a-4248-aef1-daf8a65f62e2",
   "metadata": {},
   "source": [
    "## 2.2 Распределение сумм"
   ]
  },
  {
   "cell_type": "code",
   "execution_count": 60,
   "id": "98d886ed-b696-4fa3-9696-b82adf7c4ec3",
   "metadata": {},
   "outputs": [
    {
     "data": {
      "text/plain": [
       "(array([1., 2., 1., 3., 0., 1., 1., 0., 0., 1.]),\n",
       " array([3.61317731, 3.84588831, 4.07859931, 4.3113103 , 4.5440213 ,\n",
       "        4.7767323 , 5.00944329, 5.24215429, 5.47486529, 5.70757628,\n",
       "        5.94028728]),\n",
       " <BarContainer object of 10 artists>)"
      ]
     },
     "execution_count": 60,
     "metadata": {},
     "output_type": "execute_result"
    },
    {
     "data": {
      "image/png": "[encoded data removed]",
      "text/plain": [
       "<Figure size 432x288 with 1 Axes>"
      ]
     },
     "metadata": {
      "needs_background": "light"
     },
     "output_type": "display_data"
    }
   ],
   "source": [
    "summ = []\n",
    "for _ in range(10):\n",
    "    summ.append(sum(np.random.rand(10)))\n",
    "plt.hist(summ)"
   ]
  },
  {
   "cell_type": "markdown",
   "id": "e8834a5a-fc38-41de-a1b3-93cbded2b531",
   "metadata": {},
   "source": [
    "## 3. Метод Монте Карло"
   ]
  },
  {
   "cell_type": "code",
   "execution_count": 115,
   "id": "955daf07-a048-425a-b07a-ecd36b3e6c91",
   "metadata": {},
   "outputs": [
    {
     "name": "stdout",
     "output_type": "stream",
     "text": [
      "3804 10000 0.3804\n"
     ]
    }
   ],
   "source": [
    "k, n = 0, 10000\n",
    "a = np.random.randint(0, 2, n)\n",
    "b = np.random.randint(0, 2, n)\n",
    "c = np.random.randint(0, 2, n)\n",
    "d = np.random.randint(0, 2, n)\n",
    "x = a + b + c + d\n",
    "\n",
    "for i in range(n):\n",
    "    k += 1 if x[i] == 2 else 0\n",
    "\n",
    "print(k, n, k/n)"
   ]
  },
  {
   "cell_type": "code",
   "execution_count": 81,
   "id": "439ceaaf-d2eb-41a7-8f48-3eeedb1e1b26",
   "metadata": {},
   "outputs": [],
   "source": [
    "def C(k, n):\n",
    "    return (math.factorial(n)/(math.factorial(k)*math.factorial(n-k)))"
   ]
  },
  {
   "cell_type": "code",
   "execution_count": 114,
   "id": "9e9cd989-bcf1-4511-9615-c80f025c092a",
   "metadata": {},
   "outputs": [
    {
     "name": "stdout",
     "output_type": "stream",
     "text": [
      "0.375\n"
     ]
    }
   ],
   "source": [
    "# Расчет по формуле Бернулли\n",
    "\n",
    "p = 1./2.\n",
    "q = 1./2.\n",
    "k, n = 2, 4\n",
    "prob = C(k, n) * (p**k) * q**(n-k)\n",
    "print(prob)"
   ]
  },
  {
   "cell_type": "markdown",
   "id": "52a917f6-3a03-493e-bf97-7017696ed827",
   "metadata": {},
   "source": [
    "Вторая попытка"
   ]
  },
  {
   "cell_type": "code",
   "execution_count": 255,
   "id": "fbd67618-c00f-45a2-bfc9-8c764d3cbdd5",
   "metadata": {},
   "outputs": [
    {
     "name": "stdout",
     "output_type": "stream",
     "text": [
      "3184 10000 0.3184\n"
     ]
    }
   ],
   "source": [
    "k, n = 0, 10000\n",
    "a = np.random.randint(0, 2, n)\n",
    "b = np.random.randint(0, 2, n)\n",
    "c = np.random.randint(0, 2, n)\n",
    "d = np.random.randint(0, 2, n)\n",
    "e = np.random.randint(0, 2, n)\n",
    "f = np.random.randint(0, 2, n)\n",
    "\n",
    "x = a + b + c + d + e + f\n",
    "\n",
    "for i in range(n):\n",
    "    k += 1 if x[i] == 3 else 0\n",
    "\n",
    "print(k, n, k/n)"
   ]
  },
  {
   "cell_type": "code",
   "execution_count": 249,
   "id": "8b39a05b-5bc4-431b-b897-4938b0ce1152",
   "metadata": {},
   "outputs": [
    {
     "name": "stdout",
     "output_type": "stream",
     "text": [
      "0.3125\n"
     ]
    }
   ],
   "source": [
    "# Расчет по формуле Бернулли\n",
    "\n",
    "p = 1./2.\n",
    "q = 1./2.\n",
    "k, n = 3, 6\n",
    "prob = C(k, n) * (p**k) * q**(n-k)\n",
    "print(prob)"
   ]
  },
  {
   "cell_type": "markdown",
   "id": "15dc9746-04e0-40ab-9369-f04fdb56ad20",
   "metadata": {},
   "source": [
    "# 4. Возможные варианты перестановок"
   ]
  },
  {
   "cell_type": "code",
   "execution_count": 263,
   "id": "e7595ccb-9872-4ca8-aab9-0c522cc6be94",
   "metadata": {},
   "outputs": [
    {
     "name": "stdout",
     "output_type": "stream",
     "text": [
      "0000\n",
      "0001\n",
      "0010\n",
      "0011\n",
      "0100\n",
      "0101\n",
      "0110\n",
      "0111\n",
      "1000\n",
      "1001\n",
      "1010\n",
      "1011\n",
      "1100\n",
      "1101\n",
      "1110\n",
      "1111\n"
     ]
    }
   ],
   "source": [
    "for val in itertools.product('01', repeat=4):\n",
    "    print(''.join(val))"
   ]
  },
  {
   "cell_type": "code",
   "execution_count": 271,
   "id": "a8869831-6ddb-4f97-875d-4cd6388c29f4",
   "metadata": {},
   "outputs": [
    {
     "name": "stdout",
     "output_type": "stream",
     "text": [
      "1a\n",
      "12\n",
      "1b\n",
      "13\n",
      "1c\n",
      "a1\n",
      "a2\n",
      "ab\n",
      "a3\n",
      "ac\n",
      "21\n",
      "2a\n",
      "2b\n",
      "23\n",
      "2c\n",
      "b1\n",
      "ba\n",
      "b2\n",
      "b3\n",
      "bc\n",
      "31\n",
      "3a\n",
      "32\n",
      "3b\n",
      "3c\n",
      "c1\n",
      "ca\n",
      "c2\n",
      "cb\n",
      "c3\n"
     ]
    }
   ],
   "source": [
    "for val in itertools.permutations('1a2b3c', 2):\n",
    "    print(''.join(val))"
   ]
  },
  {
   "cell_type": "code",
   "execution_count": 272,
   "id": "343b74e7-bbc6-4217-ae2a-e3e3eeb44949",
   "metadata": {},
   "outputs": [
    {
     "name": "stdout",
     "output_type": "stream",
     "text": [
      "1a\n",
      "12\n",
      "1b\n",
      "13\n",
      "1c\n",
      "a2\n",
      "ab\n",
      "a3\n",
      "ac\n",
      "2b\n",
      "23\n",
      "2c\n",
      "b3\n",
      "bc\n",
      "3c\n"
     ]
    }
   ],
   "source": [
    "for val in itertools.combinations('1a2b3c', 2):\n",
    "    print(''.join(val))"
   ]
  },
  {
   "cell_type": "markdown",
   "id": "98707c13-698e-4bf2-b02d-89ba06192dfe",
   "metadata": {},
   "source": [
    "# 5. Коэффициент корреляции"
   ]
  },
  {
   "cell_type": "code",
   "execution_count": 297,
   "id": "5f548f2a-b991-43cb-a487-83c7e022c386",
   "metadata": {},
   "outputs": [
    {
     "name": "stdout",
     "output_type": "stream",
     "text": [
      "0.6883104795975886 0.15130940815353341\n",
      "0.6883104795975901 0.15130940815353264\n"
     ]
    },
    {
     "name": "stderr",
     "output_type": "stream",
     "text": [
      "<ipython-input-297-5fdb3cda4eb5>:14: FutureWarning: `rcond` parameter will change to the default of machine precision times ``max(M, N)`` where M and N are the input matrix dimensions.\n",
      "To use the future default and silence this warning we advise to pass `rcond=None`, to keep using the old, explicitly pass `rcond=-1`.\n",
      "  a1, b1 = np.linalg.lstsq(A, y)[0]\n"
     ]
    },
    {
     "data": {
      "image/png": "[encoded data removed]",
      "text/plain": [
       "<Figure size 432x288 with 1 Axes>"
      ]
     },
     "metadata": {
      "needs_background": "light"
     },
     "output_type": "display_data"
    },
    {
     "name": "stdout",
     "output_type": "stream",
     "text": [
      "0.9232145269310567\n",
      "[[1.         0.92321453]\n",
      " [0.92321453 1.        ]]\n"
     ]
    }
   ],
   "source": [
    "n = 100\n",
    "r = 0.7\n",
    "x = np.random.rand(n)\n",
    "y = r*x + (1 - r)*np.random.rand(n)\n",
    "plt.plot(x, y, 'o')\n",
    "plt.xlabel('x')\n",
    "plt.ylabel('y')\n",
    "plt.grid(True)\n",
    "\n",
    "a = (np.sum(x)*np.sum(y) - n*np.sum(x*y))/(np.sum(x)*np.sum(x) - n*np.sum(x*x))\n",
    "b = (np.sum(y) - a*np.sum(x))/n\n",
    "\n",
    "A = np.vstack([x, np.ones(len(x))]).T\n",
    "a1, b1 = np.linalg.lstsq(A, y)[0]\n",
    "print(a, b)\n",
    "print(a1, b1)\n",
    "\n",
    "plt.plot([0, 1], [b, a + b])\n",
    "plt.show()\n",
    "\n",
    "# custom correlation coef\n",
    "corr = np.sum((x - np.mean(x)) * (y - np.mean(y))) / np.sqrt(np.sum((x - np.mean(x))**2) * np.sum((y - np.mean(y))**2))\n",
    "print(corr)\n",
    "print(np.corrcoef(x, y))"
   ]
  }
 ],
 "metadata": {
  "kernelspec": {
   "display_name": "Python 3",
   "language": "python",
   "name": "python3"
  },
  "language_info": {
   "codemirror_mode": {
    "name": "ipython",
    "version": 3
   },
   "file_extension": ".py",
   "mimetype": "text/x-python",
   "name": "python",
   "nbconvert_exporter": "python",
   "pygments_lexer": "ipython3",
   "version": "3.8.8"
  }
 },
 "nbformat": 4,
 "nbformat_minor": 5
}
