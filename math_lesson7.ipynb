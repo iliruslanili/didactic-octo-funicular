{
  "nbformat": 4,
  "nbformat_minor": 0,
  "metadata": {
    "colab": {
      "name": "math_lesson7.ipynb",
      "provenance": [],
      "collapsed_sections": []
    },
    "kernelspec": {
      "name": "python3",
      "display_name": "Python 3"
    },
    "language_info": {
      "name": "python"
    }
  },
  "cells": [
    {
      "cell_type": "code",
      "metadata": {
        "id": "yJtcGk2iR_1z"
      },
      "source": [
        "import numpy as np\n",
        "import matplotlib.pyplot as plt"
      ],
      "execution_count": 1,
      "outputs": []
    },
    {
      "cell_type": "markdown",
      "metadata": {
        "id": "MkKAeyfiKKD9"
      },
      "source": [
        "# 1. Обратная матрица единичной матрицы"
      ]
    },
    {
      "cell_type": "code",
      "metadata": {
        "colab": {
          "base_uri": "https://localhost:8080/"
        },
        "id": "XHcG_dU7lHc-",
        "outputId": "ce2a0fae-8f32-4c31-ed79-1b76a9f45b98"
      },
      "source": [
        "e = np.eye(5)\n",
        "inv_e = np.linalg.inv(e)\n",
        "print(inv_e)"
      ],
      "execution_count": 4,
      "outputs": [
        {
          "output_type": "stream",
          "name": "stdout",
          "text": [
            "[[1. 0. 0. 0. 0.]\n",
            " [0. 1. 0. 0. 0.]\n",
            " [0. 0. 1. 0. 0.]\n",
            " [0. 0. 0. 1. 0.]\n",
            " [0. 0. 0. 0. 1.]]\n"
          ]
        }
      ]
    },
    {
      "cell_type": "markdown",
      "metadata": {
        "id": "teyfh_h6KOPT"
      },
      "source": [
        "# 5.2. Определитель матрицы"
      ]
    },
    {
      "cell_type": "code",
      "metadata": {
        "colab": {
          "base_uri": "https://localhost:8080/"
        },
        "id": "ArCxTAKAKFKI",
        "outputId": "107dba3d-28bd-4c43-b451-31e506ee2d23"
      },
      "source": [
        "mat = np.array([[1, 2, 3], [4, 0, 6], [7, 8, 9]])\n",
        "print(mat)\n",
        "print(f'det = {np.linalg.det(mat)}')"
      ],
      "execution_count": 7,
      "outputs": [
        {
          "output_type": "stream",
          "name": "stdout",
          "text": [
            "[[1 2 3]\n",
            " [4 0 6]\n",
            " [7 8 9]]\n",
            "det = 59.999999999999986\n"
          ]
        }
      ]
    },
    {
      "cell_type": "markdown",
      "metadata": {
        "id": "xpnEBWi5K6mJ"
      },
      "source": [
        "# 5.3. Обратная матрица"
      ]
    },
    {
      "cell_type": "code",
      "metadata": {
        "colab": {
          "base_uri": "https://localhost:8080/"
        },
        "id": "gv6RxRw9LI7-",
        "outputId": "5e0cb57f-405d-4304-e4da-4f45f4f8c101"
      },
      "source": [
        "mat = np.array([[1, 2, 3], [4, 0, 6], [7, 8, 9]])\n",
        "print(mat)\n",
        "print(f'inv:\\n{np.linalg.inv(mat)}')"
      ],
      "execution_count": 8,
      "outputs": [
        {
          "output_type": "stream",
          "name": "stdout",
          "text": [
            "[[1 2 3]\n",
            " [4 0 6]\n",
            " [7 8 9]]\n",
            "inv:\n",
            "[[-0.8         0.1         0.2       ]\n",
            " [ 0.1        -0.2         0.1       ]\n",
            " [ 0.53333333  0.1        -0.13333333]]\n"
          ]
        }
      ]
    },
    {
      "cell_type": "markdown",
      "metadata": {
        "id": "I0ujjVJSMkRg"
      },
      "source": [
        "# 5.4 Скалярное произведение векторов"
      ]
    },
    {
      "cell_type": "code",
      "metadata": {
        "colab": {
          "base_uri": "https://localhost:8080/"
        },
        "id": "4vu9aCo6MrGm",
        "outputId": "dec448cf-e3d7-4602-88db-f7bfd6a575f0"
      },
      "source": [
        "a = np.array([1, 5])\n",
        "b = np.array([2, 8])\n",
        "print(np.dot(a, b))"
      ],
      "execution_count": 9,
      "outputs": [
        {
          "output_type": "stream",
          "name": "stdout",
          "text": [
            "42\n"
          ]
        }
      ]
    },
    {
      "cell_type": "markdown",
      "metadata": {
        "id": "qchFNc62OhV7"
      },
      "source": [
        "# 5.5 Смешанное произведение векторов"
      ]
    },
    {
      "cell_type": "code",
      "metadata": {
        "colab": {
          "base_uri": "https://localhost:8080/"
        },
        "id": "3NpPe9HqOmHv",
        "outputId": "fc4fb51d-351e-4c06-d8ff-48048f97a2d9"
      },
      "source": [
        "a = np.array([1, 5, 0])\n",
        "b = np.array([2, 8, 7])\n",
        "c = np.array([7, 1.5, 3])\n",
        "\n",
        "mixed_mul = np.dot(np.cross(a, b), c)\n",
        "print(f'Смешанное произведение: {mixed_mul}')"
      ],
      "execution_count": 11,
      "outputs": [
        {
          "output_type": "stream",
          "name": "stdout",
          "text": [
            "Смешанное произведение: 228.5\n"
          ]
        }
      ]
    }
  ]
}